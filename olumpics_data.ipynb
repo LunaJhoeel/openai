{
  "nbformat": 4,
  "nbformat_minor": 0,
  "metadata": {
    "colab": {
      "provenance": []
    },
    "kernelspec": {
      "name": "python3",
      "display_name": "Python 3"
    },
    "language_info": {
      "name": "python"
    }
  },
  "cells": [
    {
      "cell_type": "code",
      "source": [
        "import pandas as pd"
      ],
      "metadata": {
        "id": "FzO_94XxxGgf"
      },
      "execution_count": null,
      "outputs": []
    },
    {
      "cell_type": "code",
      "execution_count": null,
      "metadata": {
        "colab": {
          "base_uri": "https://localhost:8080/",
          "height": 206
        },
        "id": "yD1jLJxvxA6W",
        "outputId": "3d8ab74c-11d1-4482-f3f4-05cea05e4de5"
      },
      "outputs": [
        {
          "output_type": "execute_result",
          "data": {
            "text/plain": [
              "                  title                                         heading  \\\n",
              "0  2020 Summer Olympics                                         Summary   \n",
              "1  2020 Summer Olympics                             Host city selection   \n",
              "2  2020 Summer Olympics                 Impact of the COVID-19 pandemic   \n",
              "3  2020 Summer Olympics  Qualifying event cancellation and postponement   \n",
              "4  2020 Summer Olympics                          Effect on doping tests   \n",
              "\n",
              "                                             content  tokens  \n",
              "0  The 2020 Summer Olympics (Japanese: 2020年夏季オリン...     726  \n",
              "1  The International Olympic Committee (IOC) vote...     126  \n",
              "2  In January 2020, concerns were raised about th...     374  \n",
              "3  Concerns about the pandemic began to affect qu...     298  \n",
              "4  Mandatory doping tests were being severely res...     163  "
            ],
            "text/html": [
              "\n",
              "  <div id=\"df-7277da87-5f29-437c-81a1-2e090b7522a7\">\n",
              "    <div class=\"colab-df-container\">\n",
              "      <div>\n",
              "<style scoped>\n",
              "    .dataframe tbody tr th:only-of-type {\n",
              "        vertical-align: middle;\n",
              "    }\n",
              "\n",
              "    .dataframe tbody tr th {\n",
              "        vertical-align: top;\n",
              "    }\n",
              "\n",
              "    .dataframe thead th {\n",
              "        text-align: right;\n",
              "    }\n",
              "</style>\n",
              "<table border=\"1\" class=\"dataframe\">\n",
              "  <thead>\n",
              "    <tr style=\"text-align: right;\">\n",
              "      <th></th>\n",
              "      <th>title</th>\n",
              "      <th>heading</th>\n",
              "      <th>content</th>\n",
              "      <th>tokens</th>\n",
              "    </tr>\n",
              "  </thead>\n",
              "  <tbody>\n",
              "    <tr>\n",
              "      <th>0</th>\n",
              "      <td>2020 Summer Olympics</td>\n",
              "      <td>Summary</td>\n",
              "      <td>The 2020 Summer Olympics (Japanese: 2020年夏季オリン...</td>\n",
              "      <td>726</td>\n",
              "    </tr>\n",
              "    <tr>\n",
              "      <th>1</th>\n",
              "      <td>2020 Summer Olympics</td>\n",
              "      <td>Host city selection</td>\n",
              "      <td>The International Olympic Committee (IOC) vote...</td>\n",
              "      <td>126</td>\n",
              "    </tr>\n",
              "    <tr>\n",
              "      <th>2</th>\n",
              "      <td>2020 Summer Olympics</td>\n",
              "      <td>Impact of the COVID-19 pandemic</td>\n",
              "      <td>In January 2020, concerns were raised about th...</td>\n",
              "      <td>374</td>\n",
              "    </tr>\n",
              "    <tr>\n",
              "      <th>3</th>\n",
              "      <td>2020 Summer Olympics</td>\n",
              "      <td>Qualifying event cancellation and postponement</td>\n",
              "      <td>Concerns about the pandemic began to affect qu...</td>\n",
              "      <td>298</td>\n",
              "    </tr>\n",
              "    <tr>\n",
              "      <th>4</th>\n",
              "      <td>2020 Summer Olympics</td>\n",
              "      <td>Effect on doping tests</td>\n",
              "      <td>Mandatory doping tests were being severely res...</td>\n",
              "      <td>163</td>\n",
              "    </tr>\n",
              "  </tbody>\n",
              "</table>\n",
              "</div>\n",
              "      <button class=\"colab-df-convert\" onclick=\"convertToInteractive('df-7277da87-5f29-437c-81a1-2e090b7522a7')\"\n",
              "              title=\"Convert this dataframe to an interactive table.\"\n",
              "              style=\"display:none;\">\n",
              "        \n",
              "  <svg xmlns=\"http://www.w3.org/2000/svg\" height=\"24px\"viewBox=\"0 0 24 24\"\n",
              "       width=\"24px\">\n",
              "    <path d=\"M0 0h24v24H0V0z\" fill=\"none\"/>\n",
              "    <path d=\"M18.56 5.44l.94 2.06.94-2.06 2.06-.94-2.06-.94-.94-2.06-.94 2.06-2.06.94zm-11 1L8.5 8.5l.94-2.06 2.06-.94-2.06-.94L8.5 2.5l-.94 2.06-2.06.94zm10 10l.94 2.06.94-2.06 2.06-.94-2.06-.94-.94-2.06-.94 2.06-2.06.94z\"/><path d=\"M17.41 7.96l-1.37-1.37c-.4-.4-.92-.59-1.43-.59-.52 0-1.04.2-1.43.59L10.3 9.45l-7.72 7.72c-.78.78-.78 2.05 0 2.83L4 21.41c.39.39.9.59 1.41.59.51 0 1.02-.2 1.41-.59l7.78-7.78 2.81-2.81c.8-.78.8-2.07 0-2.86zM5.41 20L4 18.59l7.72-7.72 1.47 1.35L5.41 20z\"/>\n",
              "  </svg>\n",
              "      </button>\n",
              "      \n",
              "  <style>\n",
              "    .colab-df-container {\n",
              "      display:flex;\n",
              "      flex-wrap:wrap;\n",
              "      gap: 12px;\n",
              "    }\n",
              "\n",
              "    .colab-df-convert {\n",
              "      background-color: #E8F0FE;\n",
              "      border: none;\n",
              "      border-radius: 50%;\n",
              "      cursor: pointer;\n",
              "      display: none;\n",
              "      fill: #1967D2;\n",
              "      height: 32px;\n",
              "      padding: 0 0 0 0;\n",
              "      width: 32px;\n",
              "    }\n",
              "\n",
              "    .colab-df-convert:hover {\n",
              "      background-color: #E2EBFA;\n",
              "      box-shadow: 0px 1px 2px rgba(60, 64, 67, 0.3), 0px 1px 3px 1px rgba(60, 64, 67, 0.15);\n",
              "      fill: #174EA6;\n",
              "    }\n",
              "\n",
              "    [theme=dark] .colab-df-convert {\n",
              "      background-color: #3B4455;\n",
              "      fill: #D2E3FC;\n",
              "    }\n",
              "\n",
              "    [theme=dark] .colab-df-convert:hover {\n",
              "      background-color: #434B5C;\n",
              "      box-shadow: 0px 1px 3px 1px rgba(0, 0, 0, 0.15);\n",
              "      filter: drop-shadow(0px 1px 2px rgba(0, 0, 0, 0.3));\n",
              "      fill: #FFFFFF;\n",
              "    }\n",
              "  </style>\n",
              "\n",
              "      <script>\n",
              "        const buttonEl =\n",
              "          document.querySelector('#df-7277da87-5f29-437c-81a1-2e090b7522a7 button.colab-df-convert');\n",
              "        buttonEl.style.display =\n",
              "          google.colab.kernel.accessAllowed ? 'block' : 'none';\n",
              "\n",
              "        async function convertToInteractive(key) {\n",
              "          const element = document.querySelector('#df-7277da87-5f29-437c-81a1-2e090b7522a7');\n",
              "          const dataTable =\n",
              "            await google.colab.kernel.invokeFunction('convertToInteractive',\n",
              "                                                     [key], {});\n",
              "          if (!dataTable) return;\n",
              "\n",
              "          const docLinkHtml = 'Like what you see? Visit the ' +\n",
              "            '<a target=\"_blank\" href=https://colab.research.google.com/notebooks/data_table.ipynb>data table notebook</a>'\n",
              "            + ' to learn more about interactive tables.';\n",
              "          element.innerHTML = '';\n",
              "          dataTable['output_type'] = 'display_data';\n",
              "          await google.colab.output.renderOutput(dataTable, element);\n",
              "          const docLink = document.createElement('div');\n",
              "          docLink.innerHTML = docLinkHtml;\n",
              "          element.appendChild(docLink);\n",
              "        }\n",
              "      </script>\n",
              "    </div>\n",
              "  </div>\n",
              "  "
            ]
          },
          "metadata": {},
          "execution_count": 13
        }
      ],
      "source": [
        "df = pd.read_csv('https://cdn.openai.com/API/examples/data/olympics_sections_text.csv')\n",
        "df.head()"
      ]
    },
    {
      "cell_type": "code",
      "source": [
        "df.sample(5)"
      ],
      "metadata": {
        "colab": {
          "base_uri": "https://localhost:8080/",
          "height": 206
        },
        "id": "0W1H5magzAWF",
        "outputId": "06ea96e8-965b-4d8a-ba63-fbf3c735a100"
      },
      "execution_count": null,
      "outputs": [
        {
          "output_type": "execute_result",
          "data": {
            "text/plain": [
              "                                                  title  \\\n",
              "667   Football at the 2020 Summer Olympics – Women's...   \n",
              "2644                Croatia at the 2020 Summer Olympics   \n",
              "372      Judo at the 2020 Summer Olympics – Men's 73 kg   \n",
              "1090      Triathlon at the 2020 Summer Olympics – Men's   \n",
              "847   Shooting at the 2020 Summer Olympics – Men's trap   \n",
              "\n",
              "                                     heading  \\\n",
              "667   2020 CAF Olympic Qualifying Tournament   \n",
              "2644                                Swimming   \n",
              "372         Politically motivated withdrawal   \n",
              "1090                                 Summary   \n",
              "847                       Competition format   \n",
              "\n",
              "                                                content  tokens  \n",
              "667   Zambia earned an Olympic qualification place b...      46  \n",
              "2644  Croatian swimmers further achieved qualifying ...      51  \n",
              "372   Selected to compete at the 2020 Summer Games i...     292  \n",
              "1090  The men's triathlon at the 2020 Summer Olympic...     226  \n",
              "847   The competition will not continue to use the f...     200  "
            ],
            "text/html": [
              "\n",
              "  <div id=\"df-4cef48a4-77dd-41d9-9556-7e2629901229\">\n",
              "    <div class=\"colab-df-container\">\n",
              "      <div>\n",
              "<style scoped>\n",
              "    .dataframe tbody tr th:only-of-type {\n",
              "        vertical-align: middle;\n",
              "    }\n",
              "\n",
              "    .dataframe tbody tr th {\n",
              "        vertical-align: top;\n",
              "    }\n",
              "\n",
              "    .dataframe thead th {\n",
              "        text-align: right;\n",
              "    }\n",
              "</style>\n",
              "<table border=\"1\" class=\"dataframe\">\n",
              "  <thead>\n",
              "    <tr style=\"text-align: right;\">\n",
              "      <th></th>\n",
              "      <th>title</th>\n",
              "      <th>heading</th>\n",
              "      <th>content</th>\n",
              "      <th>tokens</th>\n",
              "    </tr>\n",
              "  </thead>\n",
              "  <tbody>\n",
              "    <tr>\n",
              "      <th>667</th>\n",
              "      <td>Football at the 2020 Summer Olympics – Women's...</td>\n",
              "      <td>2020 CAF Olympic Qualifying Tournament</td>\n",
              "      <td>Zambia earned an Olympic qualification place b...</td>\n",
              "      <td>46</td>\n",
              "    </tr>\n",
              "    <tr>\n",
              "      <th>2644</th>\n",
              "      <td>Croatia at the 2020 Summer Olympics</td>\n",
              "      <td>Swimming</td>\n",
              "      <td>Croatian swimmers further achieved qualifying ...</td>\n",
              "      <td>51</td>\n",
              "    </tr>\n",
              "    <tr>\n",
              "      <th>372</th>\n",
              "      <td>Judo at the 2020 Summer Olympics – Men's 73 kg</td>\n",
              "      <td>Politically motivated withdrawal</td>\n",
              "      <td>Selected to compete at the 2020 Summer Games i...</td>\n",
              "      <td>292</td>\n",
              "    </tr>\n",
              "    <tr>\n",
              "      <th>1090</th>\n",
              "      <td>Triathlon at the 2020 Summer Olympics – Men's</td>\n",
              "      <td>Summary</td>\n",
              "      <td>The men's triathlon at the 2020 Summer Olympic...</td>\n",
              "      <td>226</td>\n",
              "    </tr>\n",
              "    <tr>\n",
              "      <th>847</th>\n",
              "      <td>Shooting at the 2020 Summer Olympics – Men's trap</td>\n",
              "      <td>Competition format</td>\n",
              "      <td>The competition will not continue to use the f...</td>\n",
              "      <td>200</td>\n",
              "    </tr>\n",
              "  </tbody>\n",
              "</table>\n",
              "</div>\n",
              "      <button class=\"colab-df-convert\" onclick=\"convertToInteractive('df-4cef48a4-77dd-41d9-9556-7e2629901229')\"\n",
              "              title=\"Convert this dataframe to an interactive table.\"\n",
              "              style=\"display:none;\">\n",
              "        \n",
              "  <svg xmlns=\"http://www.w3.org/2000/svg\" height=\"24px\"viewBox=\"0 0 24 24\"\n",
              "       width=\"24px\">\n",
              "    <path d=\"M0 0h24v24H0V0z\" fill=\"none\"/>\n",
              "    <path d=\"M18.56 5.44l.94 2.06.94-2.06 2.06-.94-2.06-.94-.94-2.06-.94 2.06-2.06.94zm-11 1L8.5 8.5l.94-2.06 2.06-.94-2.06-.94L8.5 2.5l-.94 2.06-2.06.94zm10 10l.94 2.06.94-2.06 2.06-.94-2.06-.94-.94-2.06-.94 2.06-2.06.94z\"/><path d=\"M17.41 7.96l-1.37-1.37c-.4-.4-.92-.59-1.43-.59-.52 0-1.04.2-1.43.59L10.3 9.45l-7.72 7.72c-.78.78-.78 2.05 0 2.83L4 21.41c.39.39.9.59 1.41.59.51 0 1.02-.2 1.41-.59l7.78-7.78 2.81-2.81c.8-.78.8-2.07 0-2.86zM5.41 20L4 18.59l7.72-7.72 1.47 1.35L5.41 20z\"/>\n",
              "  </svg>\n",
              "      </button>\n",
              "      \n",
              "  <style>\n",
              "    .colab-df-container {\n",
              "      display:flex;\n",
              "      flex-wrap:wrap;\n",
              "      gap: 12px;\n",
              "    }\n",
              "\n",
              "    .colab-df-convert {\n",
              "      background-color: #E8F0FE;\n",
              "      border: none;\n",
              "      border-radius: 50%;\n",
              "      cursor: pointer;\n",
              "      display: none;\n",
              "      fill: #1967D2;\n",
              "      height: 32px;\n",
              "      padding: 0 0 0 0;\n",
              "      width: 32px;\n",
              "    }\n",
              "\n",
              "    .colab-df-convert:hover {\n",
              "      background-color: #E2EBFA;\n",
              "      box-shadow: 0px 1px 2px rgba(60, 64, 67, 0.3), 0px 1px 3px 1px rgba(60, 64, 67, 0.15);\n",
              "      fill: #174EA6;\n",
              "    }\n",
              "\n",
              "    [theme=dark] .colab-df-convert {\n",
              "      background-color: #3B4455;\n",
              "      fill: #D2E3FC;\n",
              "    }\n",
              "\n",
              "    [theme=dark] .colab-df-convert:hover {\n",
              "      background-color: #434B5C;\n",
              "      box-shadow: 0px 1px 3px 1px rgba(0, 0, 0, 0.15);\n",
              "      filter: drop-shadow(0px 1px 2px rgba(0, 0, 0, 0.3));\n",
              "      fill: #FFFFFF;\n",
              "    }\n",
              "  </style>\n",
              "\n",
              "      <script>\n",
              "        const buttonEl =\n",
              "          document.querySelector('#df-4cef48a4-77dd-41d9-9556-7e2629901229 button.colab-df-convert');\n",
              "        buttonEl.style.display =\n",
              "          google.colab.kernel.accessAllowed ? 'block' : 'none';\n",
              "\n",
              "        async function convertToInteractive(key) {\n",
              "          const element = document.querySelector('#df-4cef48a4-77dd-41d9-9556-7e2629901229');\n",
              "          const dataTable =\n",
              "            await google.colab.kernel.invokeFunction('convertToInteractive',\n",
              "                                                     [key], {});\n",
              "          if (!dataTable) return;\n",
              "\n",
              "          const docLinkHtml = 'Like what you see? Visit the ' +\n",
              "            '<a target=\"_blank\" href=https://colab.research.google.com/notebooks/data_table.ipynb>data table notebook</a>'\n",
              "            + ' to learn more about interactive tables.';\n",
              "          element.innerHTML = '';\n",
              "          dataTable['output_type'] = 'display_data';\n",
              "          await google.colab.output.renderOutput(dataTable, element);\n",
              "          const docLink = document.createElement('div');\n",
              "          docLink.innerHTML = docLinkHtml;\n",
              "          element.appendChild(docLink);\n",
              "        }\n",
              "      </script>\n",
              "    </div>\n",
              "  </div>\n",
              "  "
            ]
          },
          "metadata": {},
          "execution_count": 14
        }
      ]
    },
    {
      "cell_type": "code",
      "source": [
        "df.shape"
      ],
      "metadata": {
        "colab": {
          "base_uri": "https://localhost:8080/"
        },
        "id": "_O1uNIggxIrE",
        "outputId": "d2d3fab2-8c7f-4c5b-ba46-897d96062fc8"
      },
      "execution_count": null,
      "outputs": [
        {
          "output_type": "execute_result",
          "data": {
            "text/plain": [
              "(3964, 4)"
            ]
          },
          "metadata": {},
          "execution_count": 5
        }
      ]
    },
    {
      "cell_type": "code",
      "source": [
        "df.title.value_counts()"
      ],
      "metadata": {
        "colab": {
          "base_uri": "https://localhost:8080/"
        },
        "id": "0bkwT634xM9Q",
        "outputId": "ffbe948a-e525-4535-fa44-2de3ea3a8d20"
      },
      "execution_count": null,
      "outputs": [
        {
          "output_type": "execute_result",
          "data": {
            "text/plain": [
              "Concerns and controversies at the 2020 Summer Olympics        51\n",
              "Great Britain at the 2020 Summer Olympics                     46\n",
              "United States at the 2020 Summer Olympics                     43\n",
              "Canada at the 2020 Summer Olympics                            39\n",
              "Australia at the 2020 Summer Olympics                         39\n",
              "                                                              ..\n",
              "Table tennis at the 2020 Summer Olympics – Mixed doubles       1\n",
              "Table tennis at the 2020 Summer Olympics – Women's singles     1\n",
              "Handball at the 2020 Summer Olympics – Men's qualification     1\n",
              "List of divers at the 2020 Summer Olympics                     1\n",
              "Lithuania at the 2020 Winter Youth Olympics                    1\n",
              "Name: title, Length: 735, dtype: int64"
            ]
          },
          "metadata": {},
          "execution_count": 8
        }
      ]
    },
    {
      "cell_type": "code",
      "source": [
        "df.heading.value_counts()"
      ],
      "metadata": {
        "colab": {
          "base_uri": "https://localhost:8080/"
        },
        "id": "l0CIPgr4xPC3",
        "outputId": "b0f067e4-aa91-494b-8787-9ef9868c631e"
      },
      "execution_count": null,
      "outputs": [
        {
          "output_type": "execute_result",
          "data": {
            "text/plain": [
              "Summary                      678\n",
              "Qualification                257\n",
              "Competition format           195\n",
              "Swimming                     166\n",
              "Background                   133\n",
              "                            ... \n",
              "Bribery and corruption         1\n",
              "Referees and officials         1\n",
              "Tokyo Bay Zone                 1\n",
              "Heritage Zone                  1\n",
              "Countries and flagbearers      1\n",
              "Name: heading, Length: 622, dtype: int64"
            ]
          },
          "metadata": {},
          "execution_count": 9
        }
      ]
    },
    {
      "cell_type": "code",
      "source": [
        "df.content.value_counts()"
      ],
      "metadata": {
        "colab": {
          "base_uri": "https://localhost:8080/"
        },
        "id": "VYb57zWfyOar",
        "outputId": "dfef60c3-7fe4-4444-d904-0fe340191ffa"
      },
      "execution_count": null,
      "outputs": [
        {
          "output_type": "execute_result",
          "data": {
            "text/plain": [
              "The competition consists of three rounds: heats, semifinals, and a final. The swimmers with the best 16 times in the heats advance to the semifinals. The swimmers with the best 8 times in the semifinals advance to the final. Swim-offs are used as necessary to break ties for advancement to the next round.                                                                                                                                                                                                                                                                                                                                                                                                                                                                                                                                                                                                                                                                                                                                                                                                                                                                                                                                                                                                                                                                                                                                                                                                                                                                                                                       14\n",
              "Like all Olympic boxing events, the competition is a straight single-elimination tournament. The competition begins with a preliminary round, where the number of competitors is reduced to 16, and concludes with a final. As there are fewer than 32 boxers in the competition, a number of boxers will receive a bye through the preliminary round. Both semifinal losers are awarded bronze medals.\\nBouts consist of three three-minute rounds with a one-minute break between rounds. A boxer may win by knockout or by points. Scoring is on the \"10-point-must\" system, with 5 judges scoring each round. Judges consider \"number of blows landed on the target areas, domination of the bout, technique and tactical superiority and competitiveness.\" Each judge determines a winner for each round, who receives 10 points for the round, and assigns the round's loser a number of points between 7 and 9 based on performance. The judge's scores for each round are added to give a total score for that judge. The boxer with the higher score from a majority of the judges is the winner.                                                                                                                                                                                                                                                                                                                                                                                                                                                                                                                              11\n",
              "The event was held over two consecutive days, with two rounds per day. All sessions started at 9:30 a.m. local time, though there are multiple events with races in each session.                                                                                                                                                                                                                                                                                                                                                                                                                                                                                                                                                                                                                                                                                                                                                                                                                                                                                                                                                                                                                                                                                                                                                                                                                                                                                                                                                                                                                                                       11\n",
              "Number of matches won\\nMatch points\\nSets ratio\\nPoints ratio\\nResult of the last match between the tied teamsMatch won 3–0 or 3–1: 3 match points for the winner, 0 match points for the loser\\nMatch won 3–2: 2 match points for the winner, 1 match point for the loser                                                                                                                                                                                                                                                                                                                                                                                                                                                                                                                                                                                                                                                                                                                                                                                                                                                                                                                                                                                                                                                                                                                                                                                                                                                                                                                                                               8\n",
              "The competition consists of two rounds: heats and a final. The swimmers with the best 8 times in the heats advance to the final. Swim-offs are used as necessary to break ties for advancement to the next round.                                                                                                                                                                                                                                                                                                                                                                                                                                                                                                                                                                                                                                                                                                                                                                                                                                                                                                                                                                                                                                                                                                                                                                                                                                                                                                                                                                                                                        6\n",
              "                                                                                                                                                                                                                                                                                                                                                                                                                                                                                                                                                                                                                                                                                                                                                                                                                                                                                                                                                                                                                                                                                                                                                                                                                                                                                                                                                                                                                                                                                                                                                                                                                                        ..\n",
              "The women's uneven bars event at the 2020 Summer Olympics was held on 25 July and 1 August 2021 at the Ariake Gymnastics Centre. Approximately 90 gymnasts from 53 nations (of the 98 total gymnasts) competed on the uneven bars in the qualifying round.Two-time world champion and favorite Nina Derwael of Belgium won the competition to earn Belgium's first Olympic medal in artistic gymnastics. Derwael's medal was also the first gold for Belgium at the 2020 Olympics. ROC's Anastasia Ilyankova earned silver for her first Olympic medal. Sunisa Lee of the United States took the bronze, her third medal of the 2020 Olympics.\\n\\nThe medals for the competition were presented by Baron Pierre-Olivier Becker-Vieujant, Belgium; IOC Member, and the medalists' bouquets were presented by Kim Dong-min, South Korea; FIG Executive Committee Member.                                                                                                                                                                                                                                                                                                                                                                                                                                                                                                                                                                                                                                                                                                                                                                   1\n",
              "This was the 19th appearance of the event, after making its debut at the 1952 Summer Olympics. Two-time defending champion Aliya Mustafina of Russia retired prior to the 2020 Summer Olympics.                                                                                                                                                                                                                                                                                                                                                                                                                                                                                                                                                                                                                                                                                                                                                                                                                                                                                                                                                                                                                                                                                                                                                                                                                                                                                                                                                                                                                                          1\n",
              "A National Olympic Committee (NOC) could enter up to 6 qualified gymnasts: a team of 4 and up to 2 specialists. A total of 98 quota places are allocated to women's gymnastics.\\nThe 12 teams that qualify will be able to send 4 gymnasts in the team competition, for a total of 48 of the 98 quota places. The top three teams at the 2018 World Artistic Gymnastics Championships (the United States, Russia, and China) and the top nine teams (excluding those already qualified) at the 2019 World Artistic Gymnastics Championships (France, Canada, the Netherlands, Great Britain, Italy, Germany, Belgium, Japan, and Spain) earned team qualification places.\\nThe remaining 50 quota places are awarded individually. Each gymnast can only earn one place, except that gymnasts that competed with a team that qualified are eligible to earn a second place through the 2020 All Around World Cup Series. Some of the individual events are open to gymnasts from NOCs with qualified teams, while others are not. These places are filled through various criteria based on the 2019 World Championships, the 2020 FIG Artistic Gymnastics World Cup series, continental championships, a host guarantee, and a Tripartite Commission invitation. \\nEach of the 98 qualified gymnasts are eligible for the uneven bars competition, but many gymnasts do not compete in each of the apparatus events.\\nThe COVID-19 pandemic delayed many of the events for qualifying for gymnastics. The 2018 and 2019 World Championships were completed on time, but many of the World Cup series events were delayed into 2021.     1\n",
              "The top 8 qualifiers in the qualification phase (limit two per NOC) advanced to the apparatus final. The finalists performed on the uneven bars again. Qualification scores were then ignored, with only final round scores counting.                                                                                                                                                                                                                                                                                                                                                                                                                                                                                                                                                                                                                                                                                                                                                                                                                                                                                                                                                                                                                                                                                                                                                                                                                                                                                                                                                                                                    1\n",
              "Haiti entered one athlete into the taekwondo competition at the Games. Florida-born practitioner Aliyah Shipman secured a spot in the women's welterweight category (67 kg) with a top two finish at the 2020 Pan American Qualification Tournament in San José, Costa Rica. The United States Olympic & Paralympic Committee blocked her from participation on the grounds that athletes need three years to change the country they represent, and she fought for the United States one year before. Shipman tried to appeal, backed by the Haitian Taekwondo Federation, on the condition that junior athletes do not fall under the same waiting period, but it fell through, so her spot was awarded to another American, Lauren Lee.                                                                                                                                                                                                                                                                                                                                                                                                                                                                                                                                                                                                                                                                                                                                                                                                                                                                                               1\n",
              "Name: content, Length: 3848, dtype: int64"
            ]
          },
          "metadata": {},
          "execution_count": 10
        }
      ]
    },
    {
      "cell_type": "code",
      "source": [
        "df.tokens.value_counts()"
      ],
      "metadata": {
        "colab": {
          "base_uri": "https://localhost:8080/"
        },
        "id": "f8SEP-DJypEi",
        "outputId": "c7e694a1-d42e-4974-a715-83bc17ed2d45"
      },
      "execution_count": null,
      "outputs": [
        {
          "output_type": "execute_result",
          "data": {
            "text/plain": [
              "48     106\n",
              "49      86\n",
              "50      74\n",
              "45      65\n",
              "51      64\n",
              "      ... \n",
              "262      1\n",
              "549      1\n",
              "566      1\n",
              "360      1\n",
              "373      1\n",
              "Name: tokens, Length: 438, dtype: int64"
            ]
          },
          "metadata": {},
          "execution_count": 11
        }
      ]
    }
  ]
}